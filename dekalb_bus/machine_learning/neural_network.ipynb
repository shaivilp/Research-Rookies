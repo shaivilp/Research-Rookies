{
 "cells": [
  {
   "cell_type": "markdown",
   "metadata": {},
   "source": [
    "## Neural Network for Bus ETA Calculation\n",
    "\n",
    "This neural network is designed to calculate the Estimated Time of Arrival (ETA) for buses. It takes the following inputs:\n",
    "\n",
    "- **Route ID**: The unique identifier for the bus route.\n",
    "- **Starting Stop**: The bus stop where the journey begins.\n",
    "- **Destination Stop**: The bus stop where the journey ends.\n",
    "- **Weather Data**: Including precipitation, temperature, etc.\n",
    "- **Time of Day**: The specific time when the journey starts.\n",
    "- **Day of the Week**: The day on which the journey takes place.\n",
    "\n",
    "Using these inputs, the neural network processes the data and outputs the duration of the journey in minutes and seconds. This helps in providing accurate and reliable ETA for bus passengers."
   ]
  },
  {
   "cell_type": "code",
   "execution_count": 421,
   "metadata": {},
   "outputs": [],
   "source": [
    "# Import required libraries\n",
    "import datetime\n",
    "import pandas as pd\n",
    "import numpy as np\n",
    "import torch\n",
    "import torch.nn as nn\n",
    "import torch.optim as optim\n",
    "from torch.utils.data import Dataset, DataLoader, random_split\n",
    "from sklearn.preprocessing import MinMaxScaler, LabelEncoder\n",
    "from sklearn.metrics import mean_absolute_error, mean_squared_error, r2_score"
   ]
  },
  {
   "cell_type": "code",
   "execution_count": 422,
   "metadata": {},
   "outputs": [
    {
     "name": "stdout",
     "output_type": "stream",
     "text": [
      "True\n"
     ]
    }
   ],
   "source": [
    "# Check if the model is running on GPU or CPU\n",
    "print(torch.cuda.is_available()) \n",
    "device = torch.device(\"cuda\" if torch.cuda.is_available() else \"cpu\")"
   ]
  },
  {
   "cell_type": "code",
   "execution_count": 423,
   "metadata": {},
   "outputs": [],
   "source": [
    "# Load data using pandas\n",
    "#df = pd.read_parquet(\"/data/scratch/shaivilp/mega_df.parquet\")\n",
    "df = pd.read_parquet(\"/data/scratch/shaivilp/two_l_mega_df.parquet\")\n",
    "#df = pd.read_parquet(\"/data/scratch/shaivilp/twelve_route_mega_df.parquet\") "
   ]
  },
  {
   "cell_type": "code",
   "execution_count": 424,
   "metadata": {},
   "outputs": [
    {
     "name": "stdout",
     "output_type": "stream",
     "text": [
      "False\n"
     ]
    }
   ],
   "source": [
    "# Drop any missing values\n",
    "df = df.dropna()\n",
    "df = df.dropna(subset=[\"eta_seconds\"])\n",
    "#Check if there are any missing values after dropping them\n",
    "print(df.isna().any().any()) "
   ]
  },
  {
   "cell_type": "code",
   "execution_count": 425,
   "metadata": {},
   "outputs": [
    {
     "data": {
      "text/html": [
       "<div>\n",
       "<style scoped>\n",
       "    .dataframe tbody tr th:only-of-type {\n",
       "        vertical-align: middle;\n",
       "    }\n",
       "\n",
       "    .dataframe tbody tr th {\n",
       "        vertical-align: top;\n",
       "    }\n",
       "\n",
       "    .dataframe thead th {\n",
       "        text-align: right;\n",
       "    }\n",
       "</style>\n",
       "<table border=\"1\" class=\"dataframe\">\n",
       "  <thead>\n",
       "    <tr style=\"text-align: right;\">\n",
       "      <th></th>\n",
       "      <th>routeID</th>\n",
       "      <th>patternID</th>\n",
       "      <th>equipmentID</th>\n",
       "      <th>tripID</th>\n",
       "      <th>nextStopLat</th>\n",
       "      <th>nextStopLng</th>\n",
       "      <th>load</th>\n",
       "      <th>capacity</th>\n",
       "      <th>eLoad</th>\n",
       "      <th>blockID</th>\n",
       "      <th>...</th>\n",
       "      <th>timeDiff_right</th>\n",
       "      <th>receiveTime_right</th>\n",
       "      <th>nextStopID_actual</th>\n",
       "      <th>nextStopName_actual</th>\n",
       "      <th>eta</th>\n",
       "      <th>hour_of_day</th>\n",
       "      <th>minute_of_hour</th>\n",
       "      <th>day_of_week</th>\n",
       "      <th>eta_seconds</th>\n",
       "      <th>distance</th>\n",
       "    </tr>\n",
       "  </thead>\n",
       "  <tbody>\n",
       "    <tr>\n",
       "      <th>0</th>\n",
       "      <td>0</td>\n",
       "      <td>3</td>\n",
       "      <td>Old_1501</td>\n",
       "      <td>329.0</td>\n",
       "      <td>41.93639</td>\n",
       "      <td>-88.77360</td>\n",
       "      <td>0</td>\n",
       "      <td>0</td>\n",
       "      <td>33</td>\n",
       "      <td>0</td>\n",
       "      <td>...</td>\n",
       "      <td>0 days 00:01:00</td>\n",
       "      <td>2024-09-01 00:05:21</td>\n",
       "      <td>17</td>\n",
       "      <td>Stadium Dr. at New Hall</td>\n",
       "      <td>0 days 00:00:40</td>\n",
       "      <td>0</td>\n",
       "      <td>4</td>\n",
       "      <td>7</td>\n",
       "      <td>40</td>\n",
       "      <td>0.054808</td>\n",
       "    </tr>\n",
       "    <tr>\n",
       "      <th>1</th>\n",
       "      <td>0</td>\n",
       "      <td>3</td>\n",
       "      <td>1103</td>\n",
       "      <td>330.0</td>\n",
       "      <td>41.93639</td>\n",
       "      <td>-88.77435</td>\n",
       "      <td>0</td>\n",
       "      <td>0</td>\n",
       "      <td>0</td>\n",
       "      <td>0</td>\n",
       "      <td>...</td>\n",
       "      <td>0 days 00:00:50</td>\n",
       "      <td>2024-09-01 00:35:16</td>\n",
       "      <td>17</td>\n",
       "      <td>Stadium Dr. at New Hall</td>\n",
       "      <td>0 days 00:00:41</td>\n",
       "      <td>0</td>\n",
       "      <td>34</td>\n",
       "      <td>7</td>\n",
       "      <td>41</td>\n",
       "      <td>0.004875</td>\n",
       "    </tr>\n",
       "    <tr>\n",
       "      <th>2</th>\n",
       "      <td>0</td>\n",
       "      <td>3</td>\n",
       "      <td>1103</td>\n",
       "      <td>331.0</td>\n",
       "      <td>41.93638</td>\n",
       "      <td>-88.77397</td>\n",
       "      <td>0</td>\n",
       "      <td>0</td>\n",
       "      <td>8</td>\n",
       "      <td>0</td>\n",
       "      <td>...</td>\n",
       "      <td>0 days 00:01:00</td>\n",
       "      <td>2024-09-01 01:04:25</td>\n",
       "      <td>17</td>\n",
       "      <td>Stadium Dr. at New Hall</td>\n",
       "      <td>0 days 00:00:51</td>\n",
       "      <td>1</td>\n",
       "      <td>3</td>\n",
       "      <td>7</td>\n",
       "      <td>51</td>\n",
       "      <td>0.029283</td>\n",
       "    </tr>\n",
       "    <tr>\n",
       "      <th>3</th>\n",
       "      <td>0</td>\n",
       "      <td>3</td>\n",
       "      <td>1103</td>\n",
       "      <td>332.0</td>\n",
       "      <td>41.93639</td>\n",
       "      <td>-88.77435</td>\n",
       "      <td>0</td>\n",
       "      <td>0</td>\n",
       "      <td>18</td>\n",
       "      <td>0</td>\n",
       "      <td>...</td>\n",
       "      <td>0 days 00:00:50</td>\n",
       "      <td>2024-09-01 01:34:37</td>\n",
       "      <td>17</td>\n",
       "      <td>Stadium Dr. at New Hall</td>\n",
       "      <td>0 days 00:00:51</td>\n",
       "      <td>1</td>\n",
       "      <td>33</td>\n",
       "      <td>7</td>\n",
       "      <td>51</td>\n",
       "      <td>0.004875</td>\n",
       "    </tr>\n",
       "    <tr>\n",
       "      <th>4</th>\n",
       "      <td>0</td>\n",
       "      <td>3</td>\n",
       "      <td>1103</td>\n",
       "      <td>338.0</td>\n",
       "      <td>41.93640</td>\n",
       "      <td>-88.77528</td>\n",
       "      <td>0</td>\n",
       "      <td>0</td>\n",
       "      <td>31</td>\n",
       "      <td>0</td>\n",
       "      <td>...</td>\n",
       "      <td>0 days 00:00:50</td>\n",
       "      <td>2024-09-01 02:04:35</td>\n",
       "      <td>17</td>\n",
       "      <td>Stadium Dr. at New Hall</td>\n",
       "      <td>0 days 00:00:30</td>\n",
       "      <td>2</td>\n",
       "      <td>4</td>\n",
       "      <td>7</td>\n",
       "      <td>30</td>\n",
       "      <td>0.061588</td>\n",
       "    </tr>\n",
       "  </tbody>\n",
       "</table>\n",
       "<p>5 rows × 85 columns</p>\n",
       "</div>"
      ],
      "text/plain": [
       "   routeID  patternID equipmentID  tripID  nextStopLat  nextStopLng  load  \\\n",
       "0        0          3    Old_1501   329.0     41.93639    -88.77360     0   \n",
       "1        0          3        1103   330.0     41.93639    -88.77435     0   \n",
       "2        0          3        1103   331.0     41.93638    -88.77397     0   \n",
       "3        0          3        1103   332.0     41.93639    -88.77435     0   \n",
       "4        0          3        1103   338.0     41.93640    -88.77528     0   \n",
       "\n",
       "   capacity  eLoad  blockID  ...  timeDiff_right   receiveTime_right  \\\n",
       "0         0     33        0  ... 0 days 00:01:00 2024-09-01 00:05:21   \n",
       "1         0      0        0  ... 0 days 00:00:50 2024-09-01 00:35:16   \n",
       "2         0      8        0  ... 0 days 00:01:00 2024-09-01 01:04:25   \n",
       "3         0     18        0  ... 0 days 00:00:50 2024-09-01 01:34:37   \n",
       "4         0     31        0  ... 0 days 00:00:50 2024-09-01 02:04:35   \n",
       "\n",
       "   nextStopID_actual      nextStopName_actual             eta  hour_of_day  \\\n",
       "0                 17  Stadium Dr. at New Hall 0 days 00:00:40            0   \n",
       "1                 17  Stadium Dr. at New Hall 0 days 00:00:41            0   \n",
       "2                 17  Stadium Dr. at New Hall 0 days 00:00:51            1   \n",
       "3                 17  Stadium Dr. at New Hall 0 days 00:00:51            1   \n",
       "4                 17  Stadium Dr. at New Hall 0 days 00:00:30            2   \n",
       "\n",
       "  minute_of_hour  day_of_week  eta_seconds  distance  \n",
       "0              4            7           40  0.054808  \n",
       "1             34            7           41  0.004875  \n",
       "2              3            7           51  0.029283  \n",
       "3             33            7           51  0.004875  \n",
       "4              4            7           30  0.061588  \n",
       "\n",
       "[5 rows x 85 columns]"
      ]
     },
     "execution_count": 425,
     "metadata": {},
     "output_type": "execute_result"
    }
   ],
   "source": [
    "# Encode categorical features using LabelEncoder\n",
    "label_encoders = {}\n",
    "categorical_features = ['routeID', 'lastStopID', 'nextStopID_actual']\n",
    "\n",
    "for col in categorical_features:\n",
    "    le = LabelEncoder()\n",
    "    df[col] = le.fit_transform(df[col])\n",
    "    label_encoders[col] = le  # Store the encoders for future decoding\n",
    "\n",
    "# Display transformed data\n",
    "df.head()"
   ]
  },
  {
   "cell_type": "code",
   "execution_count": 426,
   "metadata": {},
   "outputs": [
    {
     "data": {
      "text/html": [
       "<div>\n",
       "<style scoped>\n",
       "    .dataframe tbody tr th:only-of-type {\n",
       "        vertical-align: middle;\n",
       "    }\n",
       "\n",
       "    .dataframe tbody tr th {\n",
       "        vertical-align: top;\n",
       "    }\n",
       "\n",
       "    .dataframe thead th {\n",
       "        text-align: right;\n",
       "    }\n",
       "</style>\n",
       "<table border=\"1\" class=\"dataframe\">\n",
       "  <thead>\n",
       "    <tr style=\"text-align: right;\">\n",
       "      <th></th>\n",
       "      <th>routeID</th>\n",
       "      <th>patternID</th>\n",
       "      <th>equipmentID</th>\n",
       "      <th>tripID</th>\n",
       "      <th>nextStopLat</th>\n",
       "      <th>nextStopLng</th>\n",
       "      <th>load</th>\n",
       "      <th>capacity</th>\n",
       "      <th>eLoad</th>\n",
       "      <th>blockID</th>\n",
       "      <th>...</th>\n",
       "      <th>timeDiff_right</th>\n",
       "      <th>receiveTime_right</th>\n",
       "      <th>nextStopID_actual</th>\n",
       "      <th>nextStopName_actual</th>\n",
       "      <th>eta</th>\n",
       "      <th>hour_of_day</th>\n",
       "      <th>minute_of_hour</th>\n",
       "      <th>day_of_week</th>\n",
       "      <th>eta_seconds</th>\n",
       "      <th>distance</th>\n",
       "    </tr>\n",
       "  </thead>\n",
       "  <tbody>\n",
       "    <tr>\n",
       "      <th>0</th>\n",
       "      <td>0</td>\n",
       "      <td>3</td>\n",
       "      <td>Old_1501</td>\n",
       "      <td>329.0</td>\n",
       "      <td>41.93639</td>\n",
       "      <td>-88.77360</td>\n",
       "      <td>0</td>\n",
       "      <td>0</td>\n",
       "      <td>33</td>\n",
       "      <td>0</td>\n",
       "      <td>...</td>\n",
       "      <td>0 days 00:01:00</td>\n",
       "      <td>2024-09-01 00:05:21</td>\n",
       "      <td>17</td>\n",
       "      <td>Stadium Dr. at New Hall</td>\n",
       "      <td>0 days 00:00:40</td>\n",
       "      <td>0.000000</td>\n",
       "      <td>0.067797</td>\n",
       "      <td>1.0</td>\n",
       "      <td>40</td>\n",
       "      <td>0.054808</td>\n",
       "    </tr>\n",
       "    <tr>\n",
       "      <th>1</th>\n",
       "      <td>0</td>\n",
       "      <td>3</td>\n",
       "      <td>1103</td>\n",
       "      <td>330.0</td>\n",
       "      <td>41.93639</td>\n",
       "      <td>-88.77435</td>\n",
       "      <td>0</td>\n",
       "      <td>0</td>\n",
       "      <td>0</td>\n",
       "      <td>0</td>\n",
       "      <td>...</td>\n",
       "      <td>0 days 00:00:50</td>\n",
       "      <td>2024-09-01 00:35:16</td>\n",
       "      <td>17</td>\n",
       "      <td>Stadium Dr. at New Hall</td>\n",
       "      <td>0 days 00:00:41</td>\n",
       "      <td>0.000000</td>\n",
       "      <td>0.576271</td>\n",
       "      <td>1.0</td>\n",
       "      <td>41</td>\n",
       "      <td>0.004875</td>\n",
       "    </tr>\n",
       "    <tr>\n",
       "      <th>2</th>\n",
       "      <td>0</td>\n",
       "      <td>3</td>\n",
       "      <td>1103</td>\n",
       "      <td>331.0</td>\n",
       "      <td>41.93638</td>\n",
       "      <td>-88.77397</td>\n",
       "      <td>0</td>\n",
       "      <td>0</td>\n",
       "      <td>8</td>\n",
       "      <td>0</td>\n",
       "      <td>...</td>\n",
       "      <td>0 days 00:01:00</td>\n",
       "      <td>2024-09-01 01:04:25</td>\n",
       "      <td>17</td>\n",
       "      <td>Stadium Dr. at New Hall</td>\n",
       "      <td>0 days 00:00:51</td>\n",
       "      <td>0.043478</td>\n",
       "      <td>0.050847</td>\n",
       "      <td>1.0</td>\n",
       "      <td>51</td>\n",
       "      <td>0.029283</td>\n",
       "    </tr>\n",
       "    <tr>\n",
       "      <th>3</th>\n",
       "      <td>0</td>\n",
       "      <td>3</td>\n",
       "      <td>1103</td>\n",
       "      <td>332.0</td>\n",
       "      <td>41.93639</td>\n",
       "      <td>-88.77435</td>\n",
       "      <td>0</td>\n",
       "      <td>0</td>\n",
       "      <td>18</td>\n",
       "      <td>0</td>\n",
       "      <td>...</td>\n",
       "      <td>0 days 00:00:50</td>\n",
       "      <td>2024-09-01 01:34:37</td>\n",
       "      <td>17</td>\n",
       "      <td>Stadium Dr. at New Hall</td>\n",
       "      <td>0 days 00:00:51</td>\n",
       "      <td>0.043478</td>\n",
       "      <td>0.559322</td>\n",
       "      <td>1.0</td>\n",
       "      <td>51</td>\n",
       "      <td>0.004875</td>\n",
       "    </tr>\n",
       "    <tr>\n",
       "      <th>4</th>\n",
       "      <td>0</td>\n",
       "      <td>3</td>\n",
       "      <td>1103</td>\n",
       "      <td>338.0</td>\n",
       "      <td>41.93640</td>\n",
       "      <td>-88.77528</td>\n",
       "      <td>0</td>\n",
       "      <td>0</td>\n",
       "      <td>31</td>\n",
       "      <td>0</td>\n",
       "      <td>...</td>\n",
       "      <td>0 days 00:00:50</td>\n",
       "      <td>2024-09-01 02:04:35</td>\n",
       "      <td>17</td>\n",
       "      <td>Stadium Dr. at New Hall</td>\n",
       "      <td>0 days 00:00:30</td>\n",
       "      <td>0.086957</td>\n",
       "      <td>0.067797</td>\n",
       "      <td>1.0</td>\n",
       "      <td>30</td>\n",
       "      <td>0.061588</td>\n",
       "    </tr>\n",
       "  </tbody>\n",
       "</table>\n",
       "<p>5 rows × 85 columns</p>\n",
       "</div>"
      ],
      "text/plain": [
       "   routeID  patternID equipmentID  tripID  nextStopLat  nextStopLng  load  \\\n",
       "0        0          3    Old_1501   329.0     41.93639    -88.77360     0   \n",
       "1        0          3        1103   330.0     41.93639    -88.77435     0   \n",
       "2        0          3        1103   331.0     41.93638    -88.77397     0   \n",
       "3        0          3        1103   332.0     41.93639    -88.77435     0   \n",
       "4        0          3        1103   338.0     41.93640    -88.77528     0   \n",
       "\n",
       "   capacity  eLoad  blockID  ...  timeDiff_right   receiveTime_right  \\\n",
       "0         0     33        0  ... 0 days 00:01:00 2024-09-01 00:05:21   \n",
       "1         0      0        0  ... 0 days 00:00:50 2024-09-01 00:35:16   \n",
       "2         0      8        0  ... 0 days 00:01:00 2024-09-01 01:04:25   \n",
       "3         0     18        0  ... 0 days 00:00:50 2024-09-01 01:34:37   \n",
       "4         0     31        0  ... 0 days 00:00:50 2024-09-01 02:04:35   \n",
       "\n",
       "   nextStopID_actual      nextStopName_actual             eta  hour_of_day  \\\n",
       "0                 17  Stadium Dr. at New Hall 0 days 00:00:40     0.000000   \n",
       "1                 17  Stadium Dr. at New Hall 0 days 00:00:41     0.000000   \n",
       "2                 17  Stadium Dr. at New Hall 0 days 00:00:51     0.043478   \n",
       "3                 17  Stadium Dr. at New Hall 0 days 00:00:51     0.043478   \n",
       "4                 17  Stadium Dr. at New Hall 0 days 00:00:30     0.086957   \n",
       "\n",
       "  minute_of_hour  day_of_week  eta_seconds  distance  \n",
       "0       0.067797          1.0           40  0.054808  \n",
       "1       0.576271          1.0           41  0.004875  \n",
       "2       0.050847          1.0           51  0.029283  \n",
       "3       0.559322          1.0           51  0.004875  \n",
       "4       0.067797          1.0           30  0.061588  \n",
       "\n",
       "[5 rows x 85 columns]"
      ]
     },
     "execution_count": 426,
     "metadata": {},
     "output_type": "execute_result"
    }
   ],
   "source": [
    "# Normalize numerical features using MixScalers\n",
    "numerical_features = ['day_of_week', 'hour_of_day', 'minute_of_hour']\n",
    "scaler = MinMaxScaler()\n",
    "df[numerical_features] = scaler.fit_transform(df[numerical_features])\n",
    "\n",
    "# Display normalized data\n",
    "df.head()"
   ]
  },
  {
   "cell_type": "code",
   "execution_count": 427,
   "metadata": {},
   "outputs": [],
   "source": [
    "# Normalize the target variable before creating the dataset\n",
    "scaler_eta = MinMaxScaler()\n",
    "df['eta_seconds'] = scaler_eta.fit_transform(df[['eta_seconds']])  # Fit on the full dataset"
   ]
  },
  {
   "cell_type": "code",
   "execution_count": 428,
   "metadata": {},
   "outputs": [
    {
     "data": {
      "text/plain": [
       "['scaler_eta.pkl']"
      ]
     },
     "execution_count": 428,
     "metadata": {},
     "output_type": "execute_result"
    }
   ],
   "source": [
    "# Dump encoders and scalers to disk for backend\n",
    "import joblib\n",
    "\n",
    "joblib.dump(label_encoders, \"label_encoders.pkl\")\n",
    "joblib.dump(scaler, \"numerical_scaler.pkl\")\n",
    "joblib.dump(scaler_eta, \"scaler_eta.pkl\")"
   ]
  },
  {
   "cell_type": "code",
   "execution_count": 429,
   "metadata": {},
   "outputs": [
    {
     "name": "stdout",
     "output_type": "stream",
     "text": [
      "Feature tensor shape: torch.Size([58178, 6])\n",
      "Target tensor shape: torch.Size([58178, 1])\n"
     ]
    }
   ],
   "source": [
    "# Define feature matrix (X) and target vector (y)\n",
    "df = df.dropna(subset=['eta_seconds'])  # Drop rows with NaN in target\n",
    "\n",
    "# Convert to PyTorch tensors\n",
    "X_tensor = torch.tensor(df[categorical_features + numerical_features].values, dtype=torch.float32)\n",
    "y_tensor = torch.tensor(df['eta_seconds'].values, dtype=torch.float32).view(-1, 1)\n",
    "\n",
    "# Print tensor shapes\n",
    "print(f\"Feature tensor shape: {X_tensor.shape}\")\n",
    "print(f\"Target tensor shape: {y_tensor.shape}\")"
   ]
  },
  {
   "cell_type": "code",
   "execution_count": 430,
   "metadata": {},
   "outputs": [],
   "source": [
    "# Move tensors to GPU if available\n",
    "X_tensor = X_tensor.to(device)\n",
    "y_tensor = y_tensor.to(device)"
   ]
  },
  {
   "cell_type": "code",
   "execution_count": 431,
   "metadata": {},
   "outputs": [
    {
     "name": "stdout",
     "output_type": "stream",
     "text": [
      "tensor(0, device='cuda:0')\n",
      "tensor(0, device='cuda:0')\n",
      "tensor(0, device='cuda:0')\n",
      "tensor(0, device='cuda:0')\n"
     ]
    }
   ],
   "source": [
    "print(torch.isnan(X_tensor).sum())  # Should be 0\n",
    "print(torch.isinf(X_tensor).sum())  # Should be 0\n",
    "print(torch.isnan(y_tensor).sum())  # Should be 0\n",
    "print(torch.isinf(y_tensor).sum())  # Should be 0"
   ]
  },
  {
   "cell_type": "code",
   "execution_count": 432,
   "metadata": {},
   "outputs": [
    {
     "name": "stdout",
     "output_type": "stream",
     "text": [
      "Dataset size: 58178\n"
     ]
    }
   ],
   "source": [
    "# Define a PyTorch dataset class\n",
    "class ETADataset(Dataset):\n",
    "    def __init__(self, X, y):\n",
    "        self.X = X\n",
    "        self.y = y\n",
    "\n",
    "    def __len__(self):\n",
    "        return len(self.X)\n",
    "\n",
    "    def __getitem__(self, idx):\n",
    "        return (\n",
    "            self.X[idx],\n",
    "            self.y[idx],\n",
    "        )\n",
    "# Create dataset\n",
    "dataset = ETADataset(X_tensor, y_tensor)\n",
    "\n",
    "# Print dataset length\n",
    "print(f\"Dataset size: {len(dataset)}\")"
   ]
  },
  {
   "cell_type": "code",
   "execution_count": 433,
   "metadata": {},
   "outputs": [
    {
     "name": "stdout",
     "output_type": "stream",
     "text": [
      "Training samples: 46542, Validation samples: 11636\n"
     ]
    }
   ],
   "source": [
    "# Define train-validation split\n",
    "train_size = int(0.8 * len(dataset))\n",
    "val_size = len(dataset) - train_size\n",
    "\n",
    "# Perform split\n",
    "train_dataset, val_dataset = random_split(dataset, [train_size, val_size])\n",
    "\n",
    "# Create data loaders\n",
    "train_loader = DataLoader(train_dataset, batch_size=32, shuffle=True)\n",
    "val_loader = DataLoader(val_dataset, batch_size=32, shuffle=False)\n",
    "\n",
    "print(f\"Training samples: {len(train_dataset)}, Validation samples: {len(val_dataset)}\")"
   ]
  },
  {
   "cell_type": "code",
   "execution_count": 434,
   "metadata": {},
   "outputs": [
    {
     "name": "stdout",
     "output_type": "stream",
     "text": [
      "ETANetwork(\n",
      "  (model): Sequential(\n",
      "    (0): Linear(in_features=6, out_features=64, bias=True)\n",
      "    (1): ReLU()\n",
      "    (2): Linear(in_features=64, out_features=32, bias=True)\n",
      "    (3): ReLU()\n",
      "    (4): Linear(in_features=32, out_features=1, bias=True)\n",
      "    (5): Sigmoid()\n",
      "  )\n",
      ")\n"
     ]
    }
   ],
   "source": [
    "# Define the ETA prediction neural network\n",
    "class ETANetwork(nn.Module):\n",
    "    def __init__(self, input_size):\n",
    "        super(ETANetwork, self).__init__()\n",
    "        self.model = nn.Sequential(\n",
    "            nn.Linear(input_size, 64),\n",
    "            nn.ReLU(),\n",
    "            nn.Linear(64, 32),\n",
    "            nn.ReLU(),\n",
    "            nn.Linear(32, 1),\n",
    "            nn.Sigmoid()\n",
    "        )\n",
    "    \n",
    "    def forward(self, x):\n",
    "        return self.model(x)\n",
    "\n",
    "# Initialize model\n",
    "model = ETANetwork(input_size=X_tensor.shape[1])\n",
    "\n",
    "model.to(device)\n",
    "\n",
    "# Print model architecture\n",
    "print(model)"
   ]
  },
  {
   "cell_type": "code",
   "execution_count": 435,
   "metadata": {},
   "outputs": [],
   "source": [
    "# Define loss function and optimizer\n",
    "criterion = nn.SmoothL1Loss()\n",
    "optimizer = optim.Adam(model.parameters(), lr=0.001)"
   ]
  },
  {
   "cell_type": "code",
   "execution_count": 436,
   "metadata": {},
   "outputs": [
    {
     "name": "stdout",
     "output_type": "stream",
     "text": [
      "Training Started 🚀\n",
      "Epoch 1/40 ➝ Train Loss: 0.0114 | Val Loss: 0.0080\n",
      "Epoch 2/40 ➝ Train Loss: 0.0074 | Val Loss: 0.0071\n",
      "Epoch 3/40 ➝ Train Loss: 0.0063 | Val Loss: 0.0061\n",
      "Epoch 4/40 ➝ Train Loss: 0.0060 | Val Loss: 0.0055\n",
      "Epoch 5/40 ➝ Train Loss: 0.0058 | Val Loss: 0.0056\n",
      "Epoch 6/40 ➝ Train Loss: 0.0056 | Val Loss: 0.0053\n",
      "Epoch 7/40 ➝ Train Loss: 0.0055 | Val Loss: 0.0051\n",
      "Epoch 8/40 ➝ Train Loss: 0.0054 | Val Loss: 0.0051\n",
      "Epoch 9/40 ➝ Train Loss: 0.0052 | Val Loss: 0.0050\n",
      "Epoch 10/40 ➝ Train Loss: 0.0051 | Val Loss: 0.0048\n",
      "Epoch 11/40 ➝ Train Loss: 0.0049 | Val Loss: 0.0046\n",
      "Epoch 12/40 ➝ Train Loss: 0.0048 | Val Loss: 0.0048\n",
      "Epoch 13/40 ➝ Train Loss: 0.0046 | Val Loss: 0.0043\n",
      "Epoch 14/40 ➝ Train Loss: 0.0044 | Val Loss: 0.0041\n",
      "Epoch 15/40 ➝ Train Loss: 0.0042 | Val Loss: 0.0040\n",
      "Epoch 16/40 ➝ Train Loss: 0.0040 | Val Loss: 0.0039\n",
      "Epoch 17/40 ➝ Train Loss: 0.0037 | Val Loss: 0.0034\n",
      "Epoch 18/40 ➝ Train Loss: 0.0036 | Val Loss: 0.0040\n",
      "Epoch 19/40 ➝ Train Loss: 0.0034 | Val Loss: 0.0034\n",
      "Epoch 20/40 ➝ Train Loss: 0.0032 | Val Loss: 0.0035\n",
      "Epoch 21/40 ➝ Train Loss: 0.0032 | Val Loss: 0.0029\n",
      "Epoch 22/40 ➝ Train Loss: 0.0030 | Val Loss: 0.0037\n",
      "Epoch 23/40 ➝ Train Loss: 0.0031 | Val Loss: 0.0026\n",
      "Epoch 24/40 ➝ Train Loss: 0.0029 | Val Loss: 0.0027\n",
      "Epoch 25/40 ➝ Train Loss: 0.0028 | Val Loss: 0.0025\n",
      "Epoch 26/40 ➝ Train Loss: 0.0028 | Val Loss: 0.0033\n",
      "Epoch 27/40 ➝ Train Loss: 0.0027 | Val Loss: 0.0024\n",
      "Epoch 28/40 ➝ Train Loss: 0.0028 | Val Loss: 0.0046\n",
      "⚠️ Warning: Possible overfitting detected!\n",
      "Epoch 29/40 ➝ Train Loss: 0.0028 | Val Loss: 0.0026\n",
      "Epoch 30/40 ➝ Train Loss: 0.0027 | Val Loss: 0.0024\n",
      "Epoch 31/40 ➝ Train Loss: 0.0026 | Val Loss: 0.0024\n",
      "Epoch 32/40 ➝ Train Loss: 0.0026 | Val Loss: 0.0028\n",
      "Epoch 33/40 ➝ Train Loss: 0.0028 | Val Loss: 0.0027\n",
      "Epoch 34/40 ➝ Train Loss: 0.0025 | Val Loss: 0.0027\n",
      "Epoch 35/40 ➝ Train Loss: 0.0025 | Val Loss: 0.0026\n",
      "Epoch 36/40 ➝ Train Loss: 0.0025 | Val Loss: 0.0026\n",
      "Epoch 37/40 ➝ Train Loss: 0.0025 | Val Loss: 0.0024\n",
      "Epoch 38/40 ➝ Train Loss: 0.0025 | Val Loss: 0.0024\n",
      "Epoch 39/40 ➝ Train Loss: 0.0024 | Val Loss: 0.0022\n",
      "Epoch 40/40 ➝ Train Loss: 0.0024 | Val Loss: 0.0023\n",
      "Training complete ✅\n"
     ]
    }
   ],
   "source": [
    "# Training function\n",
    "train_losses = []\n",
    "val_losses = []\n",
    "\n",
    "def train_model(model, train_loader, val_loader, criterion, optimizer, epochs=20):\n",
    "    print(\"Training Started 🚀\")\n",
    "    for epoch in range(epochs):\n",
    "        model.train()\n",
    "        train_loss = 0\n",
    "        \n",
    "        for X_batch, y_batch in train_loader:\n",
    "            X_batch, y_batch = X_batch.to(device), y_batch.to(device)\n",
    "            optimizer.zero_grad()\n",
    "            predictions = model(X_batch)\n",
    "            loss = criterion(predictions, y_batch)\n",
    "\n",
    "            loss.backward()\n",
    "                        \n",
    "            # Clip gradients to prevent exploding gradients\n",
    "            torch.nn.utils.clip_grad_norm_(model.parameters(), max_norm=1.0)\n",
    "            \n",
    "            optimizer.step()\n",
    "            train_loss += loss.item()\n",
    "        \n",
    "        model.eval()\n",
    "        val_loss = 0\n",
    "        with torch.no_grad():\n",
    "            for X_batch, y_batch in val_loader:\n",
    "                X_batch, y_batch = X_batch.to(device), y_batch.to(device)\n",
    "                predictions = model(X_batch)\n",
    "                loss = criterion(predictions, y_batch)\n",
    "                val_loss += loss.item()\n",
    "        \n",
    "        # Compute averages\n",
    "        avg_train_loss = train_loss / len(train_loader)\n",
    "        avg_val_loss = val_loss / len(val_loader)\n",
    "\n",
    "        #Print results for monitoring\n",
    "        print(f\"Epoch {epoch+1}/{epochs} ➝ \"\n",
    "            f\"Train Loss: {avg_train_loss:.4f} | \"\n",
    "            f\"Val Loss: {avg_val_loss:.4f}\")\n",
    "        \n",
    "        # Store losses for future analysis\n",
    "        train_losses.append(avg_train_loss)\n",
    "        val_losses.append(avg_val_loss)\n",
    "\n",
    "        # Overfitting warning\n",
    "        if avg_train_loss < avg_val_loss * 0.8:\n",
    "            print(\"⚠️ Warning: Possible overfitting detected!\")\n",
    "            \n",
    "    print(\"Training complete ✅\")\n",
    "# Train the model\n",
    "train_model(model, train_loader, val_loader, criterion, optimizer, epochs=40)"
   ]
  },
  {
   "cell_type": "code",
   "execution_count": 437,
   "metadata": {},
   "outputs": [
    {
     "data": {
      "image/png": "[encoded data removed]",
      "text/plain": [
       "<Figure size 640x480 with 1 Axes>"
      ]
     },
     "metadata": {},
     "output_type": "display_data"
    }
   ],
   "source": [
    "# Check for overfitting\n",
    "import matplotlib.pyplot as plt\n",
    "\n",
    "plt.plot(train_losses, label=\"Training Loss\")\n",
    "plt.plot(val_losses, label=\"Validation Loss\")\n",
    "plt.xlabel(\"Epochs\")\n",
    "plt.ylabel(\"Loss\")\n",
    "plt.legend()\n",
    "plt.show()"
   ]
  },
  {
   "cell_type": "code",
   "execution_count": 438,
   "metadata": {},
   "outputs": [
    {
     "name": "stdout",
     "output_type": "stream",
     "text": [
      "Predicted ETA: 0:04:12, Actual ETA: 0:04:01\n",
      "Predicted ETA: 0:04:51, Actual ETA: 0:04:41\n",
      "Predicted ETA: 0:04:26, Actual ETA: 0:04:31\n",
      "Predicted ETA: 0:11:38, Actual ETA: 0:11:01\n",
      "Predicted ETA: 0:00:27, Actual ETA: 0:02:00\n",
      "Predicted ETA: 0:03:29, Actual ETA: 0:02:21\n",
      "Predicted ETA: 0:01:40, Actual ETA: 0:01:20\n",
      "Predicted ETA: 0:01:42, Actual ETA: 0:02:00\n",
      "Predicted ETA: 0:03:08, Actual ETA: 0:03:20\n",
      "Predicted ETA: 0:02:59, Actual ETA: 0:02:21\n",
      "Predicted ETA: 0:03:40, Actual ETA: 0:05:40\n",
      "Predicted ETA: 0:01:05, Actual ETA: 0:00:59\n",
      "Predicted ETA: 0:00:51, Actual ETA: 0:00:30\n",
      "Predicted ETA: 0:04:30, Actual ETA: 0:04:51\n",
      "Predicted ETA: 0:03:32, Actual ETA: 0:03:01\n"
     ]
    }
   ],
   "source": [
    "model.eval()\n",
    "with torch.no_grad():\n",
    "    sample_X, sample_y= next(iter(val_loader))\n",
    "    predictions = model(sample_X)\n",
    "\n",
    "# Convert to NumPy and reshape\n",
    "sample_y_original = scaler_eta.inverse_transform(sample_y.cpu().numpy())\n",
    "predictions_original = scaler_eta.inverse_transform(predictions.cpu().numpy())\n",
    "\n",
    "# Print first 15 predictions vs actual values\n",
    "for i in range(15):\n",
    "    predicted_eta = str(datetime.timedelta(seconds=int(predictions_original[i][0])))\n",
    "    actual_eta = str(datetime.timedelta(seconds=int(sample_y_original[i][0])))\n",
    "    print(f\"Predicted ETA: {predicted_eta}, Actual ETA: {actual_eta}\")"
   ]
  },
  {
   "cell_type": "code",
   "execution_count": 439,
   "metadata": {},
   "outputs": [
    {
     "name": "stdout",
     "output_type": "stream",
     "text": [
      "Encoded routeID: 0\n",
      "Encoded lastStopID: 820\n",
      "Encoded nextStopID_actual: 465\n",
      "Predicted ETA (seconds): 156.66\n"
     ]
    },
    {
     "name": "stderr",
     "output_type": "stream",
     "text": [
      "/home/shaivilp/busmodel/.venv/lib/python3.10/site-packages/sklearn/utils/validation.py:2739: UserWarning: X does not have valid feature names, but MinMaxScaler was fitted with feature names\n",
      "  warnings.warn(\n"
     ]
    }
   ],
   "source": [
    "raw_input = {\n",
    "    \"routeID\": \"2L\",\n",
    "    \"lastStopID\": \"820\",\n",
    "    \"nextStopID_actual\": \"465\",\n",
    "    \"day_of_week\": 1,\n",
    "    \"hour_of_day\": 14,\n",
    "    \"minute_of_hour\": 30\n",
    "}\n",
    "\n",
    "# Step 1: Encode categorical variables\n",
    "encoded_route = label_encoders[\"routeID\"].transform([raw_input[\"routeID\"]])[0]\n",
    "encoded_last = label_encoders[\"lastStopID\"].transform([raw_input[\"lastStopID\"]])[0]\n",
    "encoded_next = label_encoders[\"nextStopID_actual\"].transform([raw_input[\"nextStopID_actual\"]])[0]\n",
    "\n",
    "print(f\"Encoded routeID: {encoded_route}\")\n",
    "print(f\"Encoded lastStopID: {raw_input['lastStopID']}\")\n",
    "print(f\"Encoded nextStopID_actual: {raw_input['nextStopID_actual']}\")\n",
    "\n",
    "# Step 2: Normalize numerical features\n",
    "normalized_time = scaler.transform([[raw_input[\"day_of_week\"], raw_input[\"hour_of_day\"], raw_input[\"minute_of_hour\"]]])[0]\n",
    "\n",
    "# Step 3: Create input vector\n",
    "input_vector = np.array([encoded_route, encoded_last, encoded_next, *normalized_time], dtype=np.float32)\n",
    "input_tensor = torch.tensor(input_vector).to(device).unsqueeze(0)  # shape: [1, 6]\n",
    "\n",
    "# Step 4: Run through the model\n",
    "model.eval().to(device)\n",
    "with torch.no_grad():\n",
    "    normalized_prediction = model(input_tensor).cpu().numpy()[0][0]\n",
    "\n",
    "# Step 5: Denormalize prediction\n",
    "eta_seconds = scaler_eta.inverse_transform([[normalized_prediction]])[0][0]\n",
    "\n",
    "print(f\"Predicted ETA (seconds): {eta_seconds:.2f}\")"
   ]
  },
  {
   "cell_type": "code",
   "execution_count": 440,
   "metadata": {},
   "outputs": [
    {
     "name": "stdout",
     "output_type": "stream",
     "text": [
      "\n",
      "Model Performance:\n",
      "Mean Absolute Error: 36.35 seconds\n",
      "Root Mean Squared Error: 59.41 seconds\n",
      "R² Score: 0.8699\n"
     ]
    }
   ],
   "source": [
    "r2 = r2_score(sample_y_original, predictions_original)\n",
    "mae = mean_absolute_error(sample_y_original, predictions_original)\n",
    "rmse = np.sqrt(mean_squared_error(sample_y_original, predictions_original))\n",
    "\n",
    "print(f\"\\nModel Performance:\")\n",
    "print(f\"Mean Absolute Error: {mae:.2f} seconds\")\n",
    "print(f\"Root Mean Squared Error: {rmse:.2f} seconds\")\n",
    "print(f\"R² Score: {r2:.4f}\")"
   ]
  },
  {
   "cell_type": "code",
   "execution_count": 441,
   "metadata": {},
   "outputs": [
    {
     "name": "stdout",
     "output_type": "stream",
     "text": [
      "Mean ETA: 0.19030579924583435, Std ETA: 0.1795668751001358\n"
     ]
    }
   ],
   "source": [
    "print(f\"Mean ETA: {y_tensor.mean().item()}, Std ETA: {y_tensor.std().item()}\")"
   ]
  },
  {
   "cell_type": "markdown",
   "metadata": {},
   "source": [
    "#### Export model to Onnx so it can be used in the backend"
   ]
  },
  {
   "cell_type": "code",
   "execution_count": 442,
   "metadata": {},
   "outputs": [],
   "source": [
    "# Save the model\n",
    "torch.save(model.state_dict(), \"/data/scratch/shaivilp/eta_model.pth\")"
   ]
  },
  {
   "cell_type": "code",
   "execution_count": 443,
   "metadata": {},
   "outputs": [
    {
     "name": "stdout",
     "output_type": "stream",
     "text": [
      "             Feature  Importance\n",
      "2  nextStopID_actual    0.056824\n",
      "1         lastStopID    0.054318\n",
      "4     minute_of_hour    0.000089\n",
      "0            routeID    0.000000\n",
      "5        day_of_week   -0.000033\n",
      "3        hour_of_day   -0.000061\n"
     ]
    }
   ],
   "source": [
    "model.eval()\n",
    "\n",
    "feature_names = ['routeID', 'lastStopID', 'nextStopID_actual', 'hour_of_day', 'minute_of_hour', 'day_of_week']\n",
    "X_test = df[feature_names].values  # Test set features\n",
    "y_test = df['eta_seconds'].values  # Test set target\n",
    "\n",
    "# Convert X_test to tensor\n",
    "X_tensor = torch.tensor(X_test, dtype=torch.float32)\n",
    "\n",
    "X_tensor = X_tensor.to(\"cpu\")\n",
    "\n",
    "# Move model to CPU for prediction\n",
    "model.to(\"cpu\")\n",
    "\n",
    "with torch.no_grad():\n",
    "    baseline_preds = model(X_tensor.cpu()).numpy()\n",
    "\n",
    "baseline_error = mean_squared_error(y_test, baseline_preds)\n",
    "\n",
    "# Compute permutation importance\n",
    "feature_importance = {}\n",
    "\n",
    "for i in range(X_test.shape[1]): \n",
    "    X_permuted = X_test.copy()\n",
    "    np.random.shuffle(X_permuted[:, i])\n",
    "\n",
    "    # Convert to tensor and predict again\n",
    "    X_permuted_tensor = torch.tensor(X_permuted, dtype=torch.float32)\n",
    "    with torch.no_grad():\n",
    "        permuted_preds = model(X_permuted_tensor.cpu()).numpy()\n",
    "\n",
    "    permuted_error = mean_squared_error(y_test, permuted_preds)\n",
    "    importance = permuted_error - baseline_error \n",
    "    feature_importance[feature_names[i]] = importance\n",
    "\n",
    "# Convert to Pandas DataFrame\n",
    "importance_df = pd.DataFrame(list(feature_importance.items()), columns=[\"Feature\", \"Importance\"])\n",
    "importance_df = importance_df.sort_values(by=\"Importance\", ascending=False) \n",
    "\n",
    "print(importance_df)"
   ]
  }
 ],
 "metadata": {
  "kernelspec": {
   "display_name": "busmodel",
   "language": "python",
   "name": "busmodel"
  }
 },
 "nbformat": 4,
 "nbformat_minor": 2
}
