{
 "cells": [
  {
   "cell_type": "code",
   "execution_count": 2,
   "id": "4fbf6559",
   "metadata": {},
   "outputs": [],
   "source": [
    "import polars as pl"
   ]
  },
  {
   "cell_type": "code",
   "execution_count": 3,
   "id": "2453337a",
   "metadata": {},
   "outputs": [],
   "source": [
    "%config InteractiveShell.ast_node_interactivity = 'last_expr_or_assign'"
   ]
  },
  {
   "cell_type": "code",
   "execution_count": 4,
   "id": "3894e745",
   "metadata": {},
   "outputs": [
    {
     "data": {
      "text/plain": [
       "{3: '2L',\n",
       " 4: '2R',\n",
       " 33: '3',\n",
       " 17: '10',\n",
       " 18: '11',\n",
       " 23: '12',\n",
       " 12: '16',\n",
       " 13: '17',\n",
       " 14: '18',\n",
       " 30: '19',\n",
       " 29: '21',\n",
       " 38: '21 Tripper',\n",
       " 777: '777'}"
      ]
     },
     "execution_count": 4,
     "metadata": {},
     "output_type": "execute_result"
    }
   ],
   "source": [
    "#Map route id to correct route name\n",
    "route_mapping = {\n",
    "    3: \"2L\",\n",
    "    4: \"2R\",\n",
    "    33: \"3\",\n",
    "    17: \"10\",\n",
    "    18: \"11\",\n",
    "    23: \"12\",\n",
    "    12: \"16\",\n",
    "    13: \"17\",\n",
    "    14: \"18\",\n",
    "    30: \"19\",\n",
    "    29: \"21\",\n",
    "    38: \"21 Tripper\",\n",
    "    777: \"777\"\n",
    "}"
   ]
  },
  {
   "cell_type": "code",
   "execution_count": 5,
   "id": "d29c18d3",
   "metadata": {},
   "outputs": [
    {
     "data": {
      "text/html": [
       "<div><style>\n",
       ".dataframe > thead > tr,\n",
       ".dataframe > tbody > tr {\n",
       "  text-align: right;\n",
       "  white-space: pre-wrap;\n",
       "}\n",
       "</style>\n",
       "<small>shape: (641_052, 14)</small><table border=\"1\" class=\"dataframe\"><thead><tr><th>routeID</th><th>equipmentID</th><th>lastStopID</th><th>calcStopID</th><th>stopDist</th><th>receiveTime</th><th>endReceiveTime</th><th>timeDiff</th><th>nextStopID_actual</th><th>eta</th><th>eta_seconds</th><th>day_of_week</th><th>hour_of_day</th><th>minute_of_hour</th></tr><tr><td>str</td><td>str</td><td>i64</td><td>i64</td><td>u32</td><td>datetime[ns]</td><td>datetime[ns]</td><td>duration[ns]</td><td>i64</td><td>duration[ns]</td><td>i64</td><td>i8</td><td>i8</td><td>i8</td></tr></thead><tbody><tr><td>&quot;2L&quot;</td><td>&quot;Old_1501&quot;</td><td>820</td><td>433</td><td>1</td><td>2024-09-01 00:02:21</td><td>2024-09-01 00:04:41</td><td>2m 20s</td><td>433</td><td>2m 20s</td><td>140</td><td>7</td><td>0</td><td>2</td></tr><tr><td>&quot;2L&quot;</td><td>&quot;Old_1501&quot;</td><td>820</td><td>465</td><td>2</td><td>2024-09-01 00:02:21</td><td>2024-09-01 00:05:21</td><td>3m</td><td>465</td><td>3m</td><td>180</td><td>7</td><td>0</td><td>2</td></tr><tr><td>&quot;2L&quot;</td><td>&quot;Old_1501&quot;</td><td>820</td><td>466</td><td>3</td><td>2024-09-01 00:02:21</td><td>2024-09-01 00:06:21</td><td>4m</td><td>466</td><td>4m</td><td>240</td><td>7</td><td>0</td><td>2</td></tr><tr><td>&quot;2L&quot;</td><td>&quot;Old_1501&quot;</td><td>820</td><td>467</td><td>4</td><td>2024-09-01 00:02:21</td><td>2024-09-01 00:07:41</td><td>5m 20s</td><td>467</td><td>5m 20s</td><td>320</td><td>7</td><td>0</td><td>2</td></tr><tr><td>&quot;2L&quot;</td><td>&quot;Old_1501&quot;</td><td>820</td><td>468</td><td>5</td><td>2024-09-01 00:02:21</td><td>2024-09-01 00:08:32</td><td>6m 11s</td><td>468</td><td>6m 11s</td><td>371</td><td>7</td><td>0</td><td>2</td></tr><tr><td>&hellip;</td><td>&hellip;</td><td>&hellip;</td><td>&hellip;</td><td>&hellip;</td><td>&hellip;</td><td>&hellip;</td><td>&hellip;</td><td>&hellip;</td><td>&hellip;</td><td>&hellip;</td><td>&hellip;</td><td>&hellip;</td><td>&hellip;</td></tr><tr><td>&quot;2L&quot;</td><td>&quot;1002&quot;</td><td>448</td><td>450</td><td>2</td><td>2024-09-30 23:52:16</td><td>2024-09-30 23:54:16</td><td>2m</td><td>450</td><td>2m</td><td>120</td><td>1</td><td>23</td><td>52</td></tr><tr><td>&quot;2L&quot;</td><td>&quot;1002&quot;</td><td>449</td><td>449</td><td>0</td><td>2024-09-30 23:53:16</td><td>2024-09-30 23:53:16</td><td>0ns</td><td>449</td><td>0ns</td><td>0</td><td>1</td><td>23</td><td>53</td></tr><tr><td>&quot;2L&quot;</td><td>&quot;1002&quot;</td><td>449</td><td>450</td><td>1</td><td>2024-09-30 23:53:16</td><td>2024-09-30 23:54:16</td><td>1m</td><td>450</td><td>1m</td><td>60</td><td>1</td><td>23</td><td>53</td></tr><tr><td>&quot;2L&quot;</td><td>&quot;1002&quot;</td><td>450</td><td>450</td><td>0</td><td>2024-09-30 23:54:16</td><td>2024-09-30 23:54:16</td><td>0ns</td><td>450</td><td>0ns</td><td>0</td><td>1</td><td>23</td><td>54</td></tr><tr><td>&quot;2L&quot;</td><td>&quot;1002&quot;</td><td>431</td><td>431</td><td>0</td><td>2024-09-30 23:55:56</td><td>2024-09-30 23:55:56</td><td>0ns</td><td>431</td><td>0ns</td><td>0</td><td>1</td><td>23</td><td>55</td></tr></tbody></table></div>"
      ],
      "text/plain": [
       "shape: (641_052, 14)\n",
       "┌─────────┬────────────┬───────────┬───────────┬───┬───────────┬───────────┬───────────┬───────────┐\n",
       "│ routeID ┆ equipmentI ┆ lastStopI ┆ calcStopI ┆ … ┆ eta_secon ┆ day_of_we ┆ hour_of_d ┆ minute_of │\n",
       "│ ---     ┆ D          ┆ D         ┆ D         ┆   ┆ ds        ┆ ek        ┆ ay        ┆ _hour     │\n",
       "│ str     ┆ ---        ┆ ---       ┆ ---       ┆   ┆ ---       ┆ ---       ┆ ---       ┆ ---       │\n",
       "│         ┆ str        ┆ i64       ┆ i64       ┆   ┆ i64       ┆ i8        ┆ i8        ┆ i8        │\n",
       "╞═════════╪════════════╪═══════════╪═══════════╪═══╪═══════════╪═══════════╪═══════════╪═══════════╡\n",
       "│ 2L      ┆ Old_1501   ┆ 820       ┆ 433       ┆ … ┆ 140       ┆ 7         ┆ 0         ┆ 2         │\n",
       "│ 2L      ┆ Old_1501   ┆ 820       ┆ 465       ┆ … ┆ 180       ┆ 7         ┆ 0         ┆ 2         │\n",
       "│ 2L      ┆ Old_1501   ┆ 820       ┆ 466       ┆ … ┆ 240       ┆ 7         ┆ 0         ┆ 2         │\n",
       "│ 2L      ┆ Old_1501   ┆ 820       ┆ 467       ┆ … ┆ 320       ┆ 7         ┆ 0         ┆ 2         │\n",
       "│ 2L      ┆ Old_1501   ┆ 820       ┆ 468       ┆ … ┆ 371       ┆ 7         ┆ 0         ┆ 2         │\n",
       "│ …       ┆ …          ┆ …         ┆ …         ┆ … ┆ …         ┆ …         ┆ …         ┆ …         │\n",
       "│ 2L      ┆ 1002       ┆ 448       ┆ 450       ┆ … ┆ 120       ┆ 1         ┆ 23        ┆ 52        │\n",
       "│ 2L      ┆ 1002       ┆ 449       ┆ 449       ┆ … ┆ 0         ┆ 1         ┆ 23        ┆ 53        │\n",
       "│ 2L      ┆ 1002       ┆ 449       ┆ 450       ┆ … ┆ 60        ┆ 1         ┆ 23        ┆ 53        │\n",
       "│ 2L      ┆ 1002       ┆ 450       ┆ 450       ┆ … ┆ 0         ┆ 1         ┆ 23        ┆ 54        │\n",
       "│ 2L      ┆ 1002       ┆ 431       ┆ 431       ┆ … ┆ 0         ┆ 1         ┆ 23        ┆ 55        │\n",
       "└─────────┴────────────┴───────────┴───────────┴───┴───────────┴───────────┴───────────┴───────────┘"
      ]
     },
     "execution_count": 5,
     "metadata": {},
     "output_type": "execute_result"
    }
   ],
   "source": [
    "df = pl.read_parquet(\"./data/route2l_stop_to_stop.parquet\")\n",
    "df = df.with_columns(\n",
    "    pl.col(\"routeID\").replace_strict(route_mapping),\n",
    "    pl.col(\"calcStopID\").alias(\"nextStopID_actual\"),\n",
    "    pl.col(\"timeDiff\").alias(\"eta\"),\n",
    ")\n",
    "\n",
    "df = df.with_columns(\n",
    "    pl.col(\"eta\").dt.total_seconds().alias(\"eta_seconds\"),\n",
    "    pl.col(\"receiveTime\").dt.weekday().alias(\"day_of_week\"),\n",
    "    pl.col(\"receiveTime\").dt.hour().alias(\"hour_of_day\"),\n",
    "    pl.col(\"receiveTime\").dt.minute().alias(\"minute_of_hour\")\n",
    ")"
   ]
  },
  {
   "cell_type": "code",
   "execution_count": 6,
   "id": "36407a7b",
   "metadata": {},
   "outputs": [
    {
     "data": {
      "text/html": [
       "<div><style>\n",
       ".dataframe > thead > tr,\n",
       ".dataframe > tbody > tr {\n",
       "  text-align: right;\n",
       "  white-space: pre-wrap;\n",
       "}\n",
       "</style>\n",
       "<small>shape: (171_752, 14)</small><table border=\"1\" class=\"dataframe\"><thead><tr><th>routeID</th><th>equipmentID</th><th>lastStopID</th><th>calcStopID</th><th>stopDist</th><th>receiveTime</th><th>endReceiveTime</th><th>timeDiff</th><th>nextStopID_actual</th><th>eta</th><th>eta_seconds</th><th>day_of_week</th><th>hour_of_day</th><th>minute_of_hour</th></tr><tr><td>str</td><td>str</td><td>i64</td><td>i64</td><td>u32</td><td>datetime[ns]</td><td>datetime[ns]</td><td>duration[ns]</td><td>i64</td><td>duration[ns]</td><td>i64</td><td>i8</td><td>i8</td><td>i8</td></tr></thead><tbody><tr><td>&quot;2L&quot;</td><td>&quot;Old_1501&quot;</td><td>820</td><td>433</td><td>1</td><td>2024-09-01 00:02:21</td><td>2024-09-01 00:04:41</td><td>2m 20s</td><td>433</td><td>2m 20s</td><td>140</td><td>7</td><td>0</td><td>2</td></tr><tr><td>&quot;2L&quot;</td><td>&quot;Old_1501&quot;</td><td>820</td><td>465</td><td>2</td><td>2024-09-01 00:02:21</td><td>2024-09-01 00:05:21</td><td>3m</td><td>465</td><td>3m</td><td>180</td><td>7</td><td>0</td><td>2</td></tr><tr><td>&quot;2L&quot;</td><td>&quot;Old_1501&quot;</td><td>820</td><td>466</td><td>3</td><td>2024-09-01 00:02:21</td><td>2024-09-01 00:06:21</td><td>4m</td><td>466</td><td>4m</td><td>240</td><td>7</td><td>0</td><td>2</td></tr><tr><td>&quot;2L&quot;</td><td>&quot;Old_1501&quot;</td><td>820</td><td>467</td><td>4</td><td>2024-09-01 00:02:21</td><td>2024-09-01 00:07:41</td><td>5m 20s</td><td>467</td><td>5m 20s</td><td>320</td><td>7</td><td>0</td><td>2</td></tr><tr><td>&quot;2L&quot;</td><td>&quot;Old_1501&quot;</td><td>820</td><td>468</td><td>5</td><td>2024-09-01 00:02:21</td><td>2024-09-01 00:08:32</td><td>6m 11s</td><td>468</td><td>6m 11s</td><td>371</td><td>7</td><td>0</td><td>2</td></tr><tr><td>&hellip;</td><td>&hellip;</td><td>&hellip;</td><td>&hellip;</td><td>&hellip;</td><td>&hellip;</td><td>&hellip;</td><td>&hellip;</td><td>&hellip;</td><td>&hellip;</td><td>&hellip;</td><td>&hellip;</td><td>&hellip;</td><td>&hellip;</td></tr><tr><td>&quot;2L&quot;</td><td>&quot;1002&quot;</td><td>447</td><td>449</td><td>2</td><td>2024-09-30 23:50:25</td><td>2024-09-30 23:53:16</td><td>2m 51s</td><td>449</td><td>2m 51s</td><td>171</td><td>1</td><td>23</td><td>50</td></tr><tr><td>&quot;2L&quot;</td><td>&quot;1002&quot;</td><td>447</td><td>450</td><td>3</td><td>2024-09-30 23:50:25</td><td>2024-09-30 23:54:16</td><td>3m 51s</td><td>450</td><td>3m 51s</td><td>231</td><td>1</td><td>23</td><td>50</td></tr><tr><td>&quot;2L&quot;</td><td>&quot;1002&quot;</td><td>448</td><td>449</td><td>1</td><td>2024-09-30 23:52:16</td><td>2024-09-30 23:53:16</td><td>1m</td><td>449</td><td>1m</td><td>60</td><td>1</td><td>23</td><td>52</td></tr><tr><td>&quot;2L&quot;</td><td>&quot;1002&quot;</td><td>448</td><td>450</td><td>2</td><td>2024-09-30 23:52:16</td><td>2024-09-30 23:54:16</td><td>2m</td><td>450</td><td>2m</td><td>120</td><td>1</td><td>23</td><td>52</td></tr><tr><td>&quot;2L&quot;</td><td>&quot;1002&quot;</td><td>449</td><td>450</td><td>1</td><td>2024-09-30 23:53:16</td><td>2024-09-30 23:54:16</td><td>1m</td><td>450</td><td>1m</td><td>60</td><td>1</td><td>23</td><td>53</td></tr></tbody></table></div>"
      ],
      "text/plain": [
       "shape: (171_752, 14)\n",
       "┌─────────┬────────────┬───────────┬───────────┬───┬───────────┬───────────┬───────────┬───────────┐\n",
       "│ routeID ┆ equipmentI ┆ lastStopI ┆ calcStopI ┆ … ┆ eta_secon ┆ day_of_we ┆ hour_of_d ┆ minute_of │\n",
       "│ ---     ┆ D          ┆ D         ┆ D         ┆   ┆ ds        ┆ ek        ┆ ay        ┆ _hour     │\n",
       "│ str     ┆ ---        ┆ ---       ┆ ---       ┆   ┆ ---       ┆ ---       ┆ ---       ┆ ---       │\n",
       "│         ┆ str        ┆ i64       ┆ i64       ┆   ┆ i64       ┆ i8        ┆ i8        ┆ i8        │\n",
       "╞═════════╪════════════╪═══════════╪═══════════╪═══╪═══════════╪═══════════╪═══════════╪═══════════╡\n",
       "│ 2L      ┆ Old_1501   ┆ 820       ┆ 433       ┆ … ┆ 140       ┆ 7         ┆ 0         ┆ 2         │\n",
       "│ 2L      ┆ Old_1501   ┆ 820       ┆ 465       ┆ … ┆ 180       ┆ 7         ┆ 0         ┆ 2         │\n",
       "│ 2L      ┆ Old_1501   ┆ 820       ┆ 466       ┆ … ┆ 240       ┆ 7         ┆ 0         ┆ 2         │\n",
       "│ 2L      ┆ Old_1501   ┆ 820       ┆ 467       ┆ … ┆ 320       ┆ 7         ┆ 0         ┆ 2         │\n",
       "│ 2L      ┆ Old_1501   ┆ 820       ┆ 468       ┆ … ┆ 371       ┆ 7         ┆ 0         ┆ 2         │\n",
       "│ …       ┆ …          ┆ …         ┆ …         ┆ … ┆ …         ┆ …         ┆ …         ┆ …         │\n",
       "│ 2L      ┆ 1002       ┆ 447       ┆ 449       ┆ … ┆ 171       ┆ 1         ┆ 23        ┆ 50        │\n",
       "│ 2L      ┆ 1002       ┆ 447       ┆ 450       ┆ … ┆ 231       ┆ 1         ┆ 23        ┆ 50        │\n",
       "│ 2L      ┆ 1002       ┆ 448       ┆ 449       ┆ … ┆ 60        ┆ 1         ┆ 23        ┆ 52        │\n",
       "│ 2L      ┆ 1002       ┆ 448       ┆ 450       ┆ … ┆ 120       ┆ 1         ┆ 23        ┆ 52        │\n",
       "│ 2L      ┆ 1002       ┆ 449       ┆ 450       ┆ … ┆ 60        ┆ 1         ┆ 23        ┆ 53        │\n",
       "└─────────┴────────────┴───────────┴───────────┴───┴───────────┴───────────┴───────────┴───────────┘"
      ]
     },
     "execution_count": 6,
     "metadata": {},
     "output_type": "execute_result"
    }
   ],
   "source": [
    "df = df.filter(\n",
    "    (pl.col(\"stopDist\") > 0) &\n",
    "    (pl.col(\"stopDist\") <= 5)\n",
    ")"
   ]
  },
  {
   "cell_type": "code",
   "execution_count": 7,
   "id": "ea96c52a",
   "metadata": {},
   "outputs": [],
   "source": [
    "df.write_parquet(\"./data/route2l_stop_to_stop_cleaned.parquet\")"
   ]
  }
 ],
 "metadata": {
  "kernelspec": {
   "display_name": "Python 3",
   "language": "python",
   "name": "python3"
  },
  "language_info": {
   "codemirror_mode": {
    "name": "ipython",
    "version": 3
   },
   "file_extension": ".py",
   "mimetype": "text/x-python",
   "name": "python",
   "nbconvert_exporter": "python",
   "pygments_lexer": "ipython3",
   "version": "3.11.3"
  }
 },
 "nbformat": 4,
 "nbformat_minor": 5
}
