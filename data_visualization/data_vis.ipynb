{
 "cells": [
  {
   "cell_type": "code",
   "execution_count": 39,
   "metadata": {},
   "outputs": [],
   "source": [
    "import polars as pl"
   ]
  },
  {
   "cell_type": "code",
   "execution_count": 40,
   "metadata": {},
   "outputs": [
    {
     "name": "stdout",
     "output_type": "stream",
     "text": [
      "shape: (1_564_484, 28)\n",
      "┌─────────┬───────────┬─────────────┬────────┬───┬─────────────┬─────────────┬────────┬────────────┐\n",
      "│ routeID ┆ patternID ┆ equipmentID ┆ tripID ┆ … ┆ nextStopExt ┆ nextStopPct ┆ atStop ┆ __index_le │\n",
      "│ ---     ┆ ---       ┆ ---         ┆ ---    ┆   ┆ ID          ┆ Prog        ┆ ---    ┆ vel_0__    │\n",
      "│ i64     ┆ i64       ┆ str         ┆ i64    ┆   ┆ ---         ┆ ---         ┆ bool   ┆ ---        │\n",
      "│         ┆           ┆             ┆        ┆   ┆ i64         ┆ f64         ┆        ┆ i64        │\n",
      "╞═════════╪═══════════╪═════════════╪════════╪═══╪═════════════╪═════════════╪════════╪════════════╡\n",
      "│ 777     ┆ 33        ┆ 1001        ┆ null   ┆ … ┆ -1          ┆ null        ┆ false  ┆ 13         │\n",
      "│ 777     ┆ 9998      ┆ 1002        ┆ null   ┆ … ┆ -1          ┆ null        ┆ false  ┆ 14         │\n",
      "│ 777     ┆ 0         ┆ 1003        ┆ null   ┆ … ┆ -1          ┆ null        ┆ false  ┆ 15         │\n",
      "│ 777     ┆ 9998      ┆ 1004        ┆ null   ┆ … ┆ -1          ┆ null        ┆ false  ┆ 16         │\n",
      "│ 777     ┆ 9998      ┆ 1101        ┆ null   ┆ … ┆ -1          ┆ null        ┆ false  ┆ 17         │\n",
      "│ …       ┆ …         ┆ …           ┆ …      ┆ … ┆ …           ┆ …           ┆ …      ┆ …          │\n",
      "│ 777     ┆ 0         ┆ 1701        ┆ null   ┆ … ┆ -1          ┆ null        ┆ false  ┆ 36066      │\n",
      "│ 777     ┆ 0         ┆ CODT_1001   ┆ null   ┆ … ┆ -1          ┆ null        ┆ false  ┆ 36071      │\n",
      "│ 777     ┆ 0         ┆ 1401        ┆ null   ┆ … ┆ -1          ┆ null        ┆ false  ┆ 36092      │\n",
      "│ 777     ┆ 0         ┆ 1701        ┆ null   ┆ … ┆ -1          ┆ null        ┆ false  ┆ 36093      │\n",
      "│ 777     ┆ 0         ┆ CODT_1001   ┆ null   ┆ … ┆ -1          ┆ null        ┆ false  ┆ 36098      │\n",
      "└─────────┴───────────┴─────────────┴────────┴───┴─────────────┴─────────────┴────────┴────────────┘\n"
     ]
    }
   ],
   "source": [
    "#Display all data except blockID and load columns\n",
    "df = pl.read_parquet(\"2024-09-entries-start.parquet\")\n",
    "out = df.select(pl.all().exclude(\"blockID\").exclude(\"load\"))\n",
    "print(out)  "
   ]
  },
  {
   "cell_type": "code",
   "execution_count": 42,
   "metadata": {},
   "outputs": [
    {
     "name": "stdout",
     "output_type": "stream",
     "text": [
      "shape: (13, 1)\n",
      "┌─────────┐\n",
      "│ routeID │\n",
      "│ ---     │\n",
      "│ i64     │\n",
      "╞═════════╡\n",
      "│ 18      │\n",
      "│ 3       │\n",
      "│ 33      │\n",
      "│ 30      │\n",
      "│ 12      │\n",
      "│ …       │\n",
      "│ 29      │\n",
      "│ 17      │\n",
      "│ 23      │\n",
      "│ 38      │\n",
      "│ 777     │\n",
      "└─────────┘\n"
     ]
    }
   ],
   "source": [
    "#Display all data except blockID and load columns\n",
    "df = pl.read_parquet(\"2024-09-entries-start.parquet\")\n",
    "out = df.select(\"routeID\").unique()\n",
    "print(out)  "
   ]
  }
 ],
 "metadata": {
  "kernelspec": {
   "display_name": "Python 3",
   "language": "python",
   "name": "python3"
  },
  "language_info": {
   "codemirror_mode": {
    "name": "ipython",
    "version": 3
   },
   "file_extension": ".py",
   "mimetype": "text/x-python",
   "name": "python",
   "nbconvert_exporter": "python",
   "pygments_lexer": "ipython3",
   "version": "3.11.6"
  }
 },
 "nbformat": 4,
 "nbformat_minor": 2
}
