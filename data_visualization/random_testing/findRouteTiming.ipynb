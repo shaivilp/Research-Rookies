{
 "cells": [
  {
   "cell_type": "code",
   "execution_count": null,
   "metadata": {},
   "outputs": [],
   "source": [
    "import polars as pl\n",
    "from datetime import datetime\n",
    "import matplotlib.pyplot as plt\n",
    "import json\n",
    "import datetime\n",
    "\n",
    "pl.Config().set_tbl_cols(100)\n",
    "pl.Config().set_tbl_rows(20)"
   ]
  },
  {
   "cell_type": "code",
   "execution_count": null,
   "metadata": {},
   "outputs": [],
   "source": [
    "#Map route id to correct route name\n",
    "route_mapping = {\n",
    "    3: \"2L\",\n",
    "    4: \"2R\",\n",
    "    33: \"3\",\n",
    "    17: \"10\",\n",
    "    18: \"11\",\n",
    "    23: \"12\",\n",
    "    12: \"16\",\n",
    "    13: \"17\",\n",
    "    14: \"18\",\n",
    "    30: \"19\",\n",
    "    29: \"21\",\n",
    "    38: \"21 Tripper\",\n",
    "    777: \"777\"\n",
    "}"
   ]
  },
  {
   "cell_type": "code",
   "execution_count": null,
   "metadata": {},
   "outputs": [],
   "source": [
    "df = pl.read_parquet(\"2024-09-entries-start.parquet\")\n",
    "df = df.with_columns(pl.col(\"routeID\").replace_strict(route_mapping))\n",
    "\n",
    "df"
   ]
  },
  {
   "cell_type": "code",
   "execution_count": null,
   "metadata": {},
   "outputs": [],
   "source": [
    "# Load stops json\n",
    "file = open(\"stops.json\", \"r\")\n",
    "stopsData = json.load(file)\n",
    "\n",
    "stops = pl.DataFrame(stopsData['get_stops'])\n",
    "stops"
   ]
  },
  {
   "cell_type": "code",
   "execution_count": null,
   "metadata": {},
   "outputs": [],
   "source": [
    "pattern_mapping = {\n",
    "    3: \"2L\",\n",
    "    4: \"2R\",\n",
    "    37: \"3\",\n",
    "    17: \"10\",\n",
    "    18: \"11\",\n",
    "    23: \"12\",\n",
    "    12: \"16\",\n",
    "    13: \"17\",\n",
    "    14: \"18\",\n",
    "    33: \"19\",\n",
    "    46: \"21\",\n",
    "    45: \"21 Tripper\",\n",
    "}\n",
    "\n",
    "# Load patterns json\n",
    "file = open(\"patterns.json\", \"r\")\n",
    "patternsData = json.load(file)\n",
    "\n",
    "patterns = pl.DataFrame(patternsData['get_patterns'])\n",
    "patterns = patterns.with_columns(pl.col(\"id\").replace_strict(pattern_mapping, default=\"None\"))\n",
    "patterns"
   ]
  },
  {
   "cell_type": "code",
   "execution_count": null,
   "metadata": {},
   "outputs": [],
   "source": [
    "#Left join stops to get stop names for nextStopID and lastStopID\n",
    "df = df.join(stops.rename({\"id\": \"nextStopID\"}).select([\"nextStopID\", \"name\"]), on=\"nextStopID\", how=\"left\").rename({\"name\": \"nextStopName\"})\n",
    "df = df.join(stops.rename({\"id\": \"lastStopID\"}).select([\"lastStopID\", \"name\"]), on=\"lastStopID\", how=\"left\").rename({\"name\": \"lastStopName\"})\n",
    "\n",
    "df"
   ]
  },
  {
   "cell_type": "code",
   "execution_count": null,
   "metadata": {},
   "outputs": [],
   "source": [
    "def printStops(routeId):\n",
    "    #Get all stops in the route\n",
    "    stops = patterns.filter(\n",
    "        pl.col(\"id\") == routeId \n",
    "    ).select(pl.col(\"stopIDs\")).to_series()\n",
    "\n",
    "    stops = stops[0]\n",
    "    print(stops)\n",
    "\n",
    "printStops(\"2L\")"
   ]
  },
  {
   "cell_type": "code",
   "execution_count": null,
   "metadata": {},
   "outputs": [],
   "source": [
    "twol_stops = [\n",
    "    431,\n",
    "    820,\n",
    "    433,\n",
    "    465,\n",
    "    466,\n",
    "    467,\n",
    "    468,\n",
    "    436,\n",
    "    437,\n",
    "    438,\n",
    "    439,\n",
    "    440,\n",
    "    441,\n",
    "    442,\n",
    "    443,\n",
    "    444,\n",
    "    445,\n",
    "    446,\n",
    "    447,\n",
    "    448,\n",
    "    449,\n",
    "    450\n",
    "]\n",
    "\n",
    "def calcTimeBetweenStops(stops, routeId, equipmentId):\n",
    "    #Select all columns with that routeId and inService\n",
    "    subset = df.filter(\n",
    "        (pl.col(\"routeID\") == routeId) &\n",
    "        (pl.col(\"equipmentID\") == equipmentId) &\n",
    "        (pl.col(\"inService\") == True)\n",
    "    )\n",
    "    \n",
    "    #Add stopChanged column\n",
    "    subset = subset.with_columns(\n",
    "        (pl.col(\"nextStopID\").diff().over(\"equipmentID\") != 0).alias(\"stopChanged\")\n",
    "    )\n",
    "\n",
    "    #Add timeDiff column\n",
    "    subset = subset.filter(pl.col(\"stopChanged\") == True).with_columns(\n",
    "        (pl.col(\"receiveTime\") - pl.col(\"receiveTime\").shift(1)).alias(\"timeDiff\")\n",
    "    )\n",
    "\n",
    "    #Filter out any timedeltas above 30 minutes\n",
    "    subset = subset.filter((pl.col(\"timeDiff\") < datetime.timedelta(minutes=30)))\n",
    "\n",
    "    #Create a data object\n",
    "    data = {\n",
    "        \"stopA\": [],\n",
    "        \"stopB\": [],\n",
    "        \"timeBetween\": []\n",
    "    }\n",
    "\n",
    "    for i in range(len(stops) - 1):\n",
    "        stopA = subset.filter((pl.col(\"stopChanged\") == True) & (pl.col(\"nextStopID\") == stops[i]))\n",
    "        stopB = subset.filter((pl.col(\"stopChanged\") == True) & (pl.col(\"nextStopID\") == stops[i+1]))\n",
    "\n",
    "        stopB = stopB.with_columns(\n",
    "            (pl.col(\"receiveTime\").alias(\"receiveTime_right\"))\n",
    "        )\n",
    "\n",
    "        final = stopA.join_asof(stopB, on=\"receiveTime\", by=\"equipmentID\", strategy=\"forward\")\n",
    "\n",
    "\n",
    "        final = final.with_columns(\n",
    "            (pl.col(\"receiveTime_right\") - pl.col(\"receiveTime\")).alias(\"timeDiffFinal\")\n",
    "        )\n",
    "    \n",
    "        data[\"stopA\"].append(stops[i])\n",
    "        data[\"stopB\"].append(stops[i+1])\n",
    "        data[\"timeBetween\"].append(final[\"timeDiffFinal\"].median())\n",
    "\n",
    "    avgDf = pl.DataFrame(data)\n",
    "    return avgDf\n",
    "\n",
    "avgDf = calcTimeBetweenStops(twol_stops, \"2L\", \"902\")\n",
    "#Map stopA and stopB names\n",
    "avgDf = avgDf.join(stops.rename({\"id\": \"stopA\"}).select([\"stopA\", \"name\"]), on=\"stopA\", how=\"left\").rename({\"name\": \"stopA_Name\"})\n",
    "avgDf = avgDf.join(stops.rename({\"id\": \"stopB\"}).select([\"stopB\", \"name\"]), on=\"stopB\", how=\"left\").rename({\"name\": \"stopB_Name\"})\n",
    "\n",
    "avgDf[\"stopA\", \"stopA_Name\", \"stopB\", \"stopB_Name\", \"timeBetween\"]"
   ]
  },
  {
   "cell_type": "code",
   "execution_count": null,
   "metadata": {},
   "outputs": [],
   "source": [
    "#Select a subset with route 2L, inService\n",
    "subset = df.filter(\n",
    "    (pl.col(\"routeID\") == \"2L\") &\n",
    "    (pl.col(\"inService\") == True)\n",
    ")\n",
    "\n",
    "subset = subset.with_columns(\n",
    "    (pl.col(\"nextStopID\").diff().over(\"equipmentID\") != 0).alias(\"stopChanged\")\n",
    ")\n",
    "\n",
    "subset[[\"routeID\", \"equipmentID\", \"lat\", \"lng\", \"nextStopID\", \"lastStopID\", \"nextStopName\", \"lastStopName\", \"receiveTime\", \"captureTime\", \"stopChanged\"]]"
   ]
  },
  {
   "cell_type": "code",
   "execution_count": null,
   "metadata": {},
   "outputs": [],
   "source": [
    "#Display round trip time from and to the student center\n",
    "graphSet = subset.filter((pl.col(\"stopChanged\") == True) & (pl.col(\"nextStopID\") == 431))\n",
    "\n",
    "graphSet = graphSet.with_columns(\n",
    "    (pl.col(\"receiveTime\") - pl.col(\"receiveTime\").shift(1)).alias(\"timeDiff\")\n",
    ")\n",
    "\n",
    "graphSet = graphSet.filter((pl.col(\"timeDiff\") < datetime.timedelta(hours=1)))\n",
    "\n",
    "graphSet['timeDiff'].describe()\n",
    "\n",
    "graphSet[[\"routeID\", \"equipmentID\", \"lat\", \"lng\", \"nextStopID\", \"lastStopID\", \"nextStopName\", \"lastStopName\", \"receiveTime\", \"captureTime\", \"timeDiff\"]]"
   ]
  },
  {
   "cell_type": "code",
   "execution_count": null,
   "metadata": {},
   "outputs": [],
   "source": [
    "plt.figure(figsize=(10, 10))\n",
    "plt.scatter(graphSet['lng'], graphSet['lat'], c='red', marker='o')\n",
    "plt.scatter(-88.76437, 41.93644, c='blue', marker='o')\n",
    "plt.xlabel('Longitude')\n",
    "plt.ylabel('Latitude')\n",
    "plt.show()"
   ]
  },
  {
   "cell_type": "code",
   "execution_count": null,
   "metadata": {},
   "outputs": [],
   "source": [
    "stopA = subset.filter((pl.col(\"stopChanged\") == True) & (pl.col(\"nextStopID\") == 431))\n",
    "stopB = subset.filter((pl.col(\"stopChanged\") == True) & (pl.col(\"nextStopID\") == 820))\n",
    "\n",
    "stopB = stopB.with_columns(\n",
    "    (pl.col(\"receiveTime\").alias(\"receiveTime_right\"))\n",
    ")\n",
    "\n",
    "final = stopA.join_asof(stopB, on=\"receiveTime\", by=\"equipmentID\", strategy=\"forward\")\n",
    "\n",
    "\n",
    "final = final.with_columns(\n",
    "    (pl.col(\"receiveTime_right\") - pl.col(\"receiveTime\")).alias(\"timeDiffFinal\")\n",
    ")\n",
    "\n",
    "final = final.filter(pl.col(\"timeDiffFinal\") > datetime.timedelta(minutes=3))\n",
    "\n",
    "final[\"routeID\", \"equipmentID\", \"nextStopName\", \"lastStopName\", \"receiveTime\", \"receiveTime_right\", \"timeDiffFinal\"]"
   ]
  },
  {
   "cell_type": "code",
   "execution_count": null,
   "metadata": {},
   "outputs": [],
   "source": [
    "graphSet[\"lat\", \"lng\"].describe()"
   ]
  },
  {
   "cell_type": "code",
   "execution_count": null,
   "metadata": {},
   "outputs": [],
   "source": [
    "\n",
    "graphSet[\"timeDiff\"].describe()\n",
    "\n",
    "plt.hist(graphSet[\"timeDiff\"].dt.total_seconds(), bins=30)"
   ]
  },
  {
   "cell_type": "code",
   "execution_count": null,
   "metadata": {},
   "outputs": [],
   "source": [
    "\n",
    "#Display round trip time from and to the student center\n",
    "graphSet = subset.filter((pl.col(\"stopChanged\") == True) & (pl.col(\"nextStopID\") == 431))\n",
    "graphSet[[\"routeID\", \"equipmentID\", \"lat\", \"lng\", \"nextStopID\", \"lastStopID\", \"nextStopName\", \"lastStopName\", \"receiveTime\", \"captureTime\"]]"
   ]
  }
 ],
 "metadata": {
  "kernelspec": {
   "display_name": "Python 3",
   "language": "python",
   "name": "python3"
  },
  "language_info": {
   "codemirror_mode": {
    "name": "ipython",
    "version": 3
   },
   "file_extension": ".py",
   "mimetype": "text/x-python",
   "name": "python",
   "nbconvert_exporter": "python",
   "pygments_lexer": "ipython3",
   "version": "3.11.3"
  }
 },
 "nbformat": 4,
 "nbformat_minor": 2
}
